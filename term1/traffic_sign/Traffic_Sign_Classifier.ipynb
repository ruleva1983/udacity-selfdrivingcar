{
 "cells": [
  {
   "cell_type": "markdown",
   "metadata": {},
   "source": [
    "# Self-Driving Car Engineer Nanodegree\n",
    "\n",
    "## Deep Learning\n",
    "\n",
    "## Project: Build a Traffic Sign Recognition Classifier\n",
    "\n",
    "In this notebook, a template is provided for you to implement your functionality in stages, which is required to successfully complete this project. If additional code is required that cannot be included in the notebook, be sure that the Python code is successfully imported and included in your submission if necessary. \n",
    "\n",
    "> **Note**: Once you have completed all of the code implementations, you need to finalize your work by exporting the iPython Notebook as an HTML document. Before exporting the notebook to html, all of the code cells need to have been run so that reviewers can see the final implementation and output. You can then export the notebook by using the menu above and navigating to  \\n\",\n",
    "    \"**File -> Download as -> HTML (.html)**. Include the finished document along with this notebook as your submission. \n",
    "\n",
    "In addition to implementing code, there is a writeup to complete. The writeup should be completed in a separate file, which can be either a markdown file or a pdf document. There is a [write up template](https://github.com/udacity/CarND-Traffic-Sign-Classifier-Project/blob/master/writeup_template.md) that can be used to guide the writing process. Completing the code template and writeup template will cover all of the [rubric points](https://review.udacity.com/#!/rubrics/481/view) for this project.\n",
    "\n",
    "The [rubric](https://review.udacity.com/#!/rubrics/481/view) contains \"Stand Out Suggestions\" for enhancing the project beyond the minimum requirements. The stand out suggestions are optional. If you decide to pursue the \"stand out suggestions\", you can include the code in this Ipython notebook and also discuss the results in the writeup file.\n",
    "\n",
    "\n",
    ">**Note:** Code and Markdown cells can be executed using the **Shift + Enter** keyboard shortcut. In addition, Markdown cells can be edited by typically double-clicking the cell to enter edit mode."
   ]
  },
  {
   "cell_type": "markdown",
   "metadata": {},
   "source": [
    "---\n",
    "## Step 0: Load The Data"
   ]
  },
  {
   "cell_type": "code",
   "execution_count": 1,
   "metadata": {
    "collapsed": false
   },
   "outputs": [],
   "source": [
    "# Load pickled data\n",
    "import pickle\n",
    "import numpy as np\n",
    "import seaborn as sns\n",
    "\n",
    "training_file =  \"data/train.p\"\n",
    "validation_file = \"data/valid.p\"\n",
    "testing_file = \"data/test.p\"\n",
    "\n",
    "with open(training_file, mode='rb') as f:\n",
    "    train = pickle.load(f)\n",
    "with open(validation_file, mode='rb') as f:\n",
    "    valid = pickle.load(f)\n",
    "with open(testing_file, mode='rb') as f:\n",
    "    test = pickle.load(f)\n",
    "    \n",
    "X_train, y_train = train['features'], train['labels']\n",
    "X_valid, y_valid = valid['features'], valid['labels']\n",
    "X_test, y_test = test['features'], test['labels']\n"
   ]
  },
  {
   "cell_type": "markdown",
   "metadata": {},
   "source": [
    "---\n",
    "\n",
    "## Step 1: Dataset Summary & Exploration\n",
    "\n",
    "The pickled data is a dictionary with 4 key/value pairs:\n",
    "\n",
    "- `'features'` is a 4D array containing raw pixel data of the traffic sign images, (num examples, width, height, channels).\n",
    "- `'labels'` is a 1D array containing the label/class id of the traffic sign. The file `signnames.csv` contains id -> name mappings for each id.\n",
    "- `'sizes'` is a list containing tuples, (width, height) representing the original width and height the image.\n",
    "- `'coords'` is a list containing tuples, (x1, y1, x2, y2) representing coordinates of a bounding box around the sign in the image. **THESE COORDINATES ASSUME THE ORIGINAL IMAGE. THE PICKLED DATA CONTAINS RESIZED VERSIONS (32 by 32) OF THESE IMAGES**\n",
    "\n",
    "Complete the basic data summary below. Use python, numpy and/or pandas methods to calculate the data summary rather than hard coding the results. For example, the [pandas shape method](http://pandas.pydata.org/pandas-docs/stable/generated/pandas.DataFrame.shape.html) might be useful for calculating some of the summary results. "
   ]
  },
  {
   "cell_type": "markdown",
   "metadata": {},
   "source": [
    "### Provide a Basic Summary of the Data Set Using Python, Numpy and/or Pandas"
   ]
  },
  {
   "cell_type": "code",
   "execution_count": 2,
   "metadata": {
    "collapsed": false
   },
   "outputs": [
    {
     "name": "stdout",
     "output_type": "stream",
     "text": [
      "Number of training examples = 34799\n",
      "Number of testing examples = 12630\n",
      "Image data shape = (32, 32, 3)\n",
      "Number of classes = 43\n"
     ]
    }
   ],
   "source": [
    "### Replace each question mark with the appropriate value. \n",
    "### Use python, pandas or numpy methods rather than hard coding the results\n",
    "\n",
    "n_train = X_train.shape[0]\n",
    "\n",
    "n_validation = X_valid.shape[0]\n",
    "\n",
    "n_test = X_test.shape[0]\n",
    "\n",
    "image_shape = X_test[0,:,:,:].shape\n",
    "\n",
    "n_classes = np.unique(y_train).shape[0]\n",
    "\n",
    "print(\"Number of training examples =\", n_train)\n",
    "print(\"Number of testing examples =\", n_test)\n",
    "print(\"Image data shape =\", image_shape)\n",
    "print(\"Number of classes =\", n_classes)"
   ]
  },
  {
   "cell_type": "markdown",
   "metadata": {},
   "source": [
    "### Include an exploratory visualization of the dataset"
   ]
  },
  {
   "cell_type": "markdown",
   "metadata": {},
   "source": [
    "Visualize the German Traffic Signs Dataset using the pickled file(s). This is open ended, suggestions include: plotting traffic sign images, plotting the count of each sign, etc. \n",
    "\n",
    "The [Matplotlib](http://matplotlib.org/) [examples](http://matplotlib.org/examples/index.html) and [gallery](http://matplotlib.org/gallery.html) pages are a great resource for doing visualizations in Python.\n",
    "\n",
    "**NOTE:** It's recommended you start with something simple first. If you wish to do more, come back to it after you've completed the rest of the sections. It can be interesting to look at the distribution of classes in the training, validation and test set. Is the distribution the same? Are there more examples of some classes than others?"
   ]
  },
  {
   "cell_type": "code",
   "execution_count": 3,
   "metadata": {
    "collapsed": false
   },
   "outputs": [
    {
     "data": {
      "image/png": "[encoded data removed]",
      "text/plain": [
       "<matplotlib.figure.Figure at 0x7f082f063d68>"
      ]
     },
     "metadata": {},
     "output_type": "display_data"
    }
   ],
   "source": [
    "### Data exploration visualization code goes here.\n",
    "### Feel free to use as many code cells as needed.\n",
    "import matplotlib.pyplot as plt\n",
    "# Visualizations will be shown in the notebook.\n",
    "%matplotlib inline\n",
    "\n",
    "plt.figure(1, figsize=(20,10))\n",
    "plt.subplot(211)\n",
    "plt.imshow(X_train[100])\n",
    "plt.subplot(212)\n",
    "plt.imshow(X_train[1040])\n",
    "plt.show()\n",
    "\n",
    "#Here some examples of traffic signs. As we can see they are quite in low resolution. Despite it we can build a deep\n",
    "#learning model that will be able to accurately recognisee them."
   ]
  },
  {
   "cell_type": "code",
   "execution_count": 4,
   "metadata": {
    "collapsed": false
   },
   "outputs": [
    {
     "data": {
      "image/png": "[encoded data removed]",
      "text/plain": [
       "<matplotlib.figure.Figure at 0x7f08611a0a90>"
      ]
     },
     "metadata": {},
     "output_type": "display_data"
    }
   ],
   "source": [
    "# Here we count how many instances for each classes are present in the training set\n",
    "counts = [len(y_train[y_train == i]) for i in range(n_classes)] \n",
    "labels = np.arange(n_classes)\n",
    "sns.set_style(\"whitegrid\")\n",
    "plt.figure(figsize=(20,10))\n",
    "ax = sns.barplot(y=counts, x=labels)\n",
    "\n",
    "# The plot below shows how unbalanced the dataset is. Some traffic signs are barely represented.\n",
    "# It will be important that through data augmentation we also take care of this issue."
   ]
  },
  {
   "cell_type": "markdown",
   "metadata": {},
   "source": [
    "----\n",
    "\n",
    "## Step 2: Design and Test a Model Architecture\n",
    "\n",
    "Design and implement a deep learning model that learns to recognize traffic signs. Train and test your model on the [German Traffic Sign Dataset](http://benchmark.ini.rub.de/?section=gtsrb&subsection=dataset).\n",
    "\n",
    "The LeNet-5 implementation shown in the [classroom](https://classroom.udacity.com/nanodegrees/nd013/parts/fbf77062-5703-404e-b60c-95b78b2f3f9e/modules/6df7ae49-c61c-4bb2-a23e-6527e69209ec/lessons/601ae704-1035-4287-8b11-e2c2716217ad/concepts/d4aca031-508f-4e0b-b493-e7b706120f81) at the end of the CNN lesson is a solid starting point. You'll have to change the number of classes and possibly the preprocessing, but aside from that it's plug and play! \n",
    "\n",
    "With the LeNet-5 solution from the lecture, you should expect a validation set accuracy of about 0.89. To meet specifications, the validation set accuracy will need to be at least 0.93. It is possible to get an even higher accuracy, but 0.93 is the minimum for a successful project submission. \n",
    "\n",
    "There are various aspects to consider when thinking about this problem:\n",
    "\n",
    "- Neural network architecture (is the network over or underfitting?)\n",
    "- Play around preprocessing techniques (normalization, rgb to grayscale, etc)\n",
    "- Number of examples per label (some have more than others).\n",
    "- Generate fake data.\n",
    "\n",
    "Here is an example of a [published baseline model on this problem](http://yann.lecun.com/exdb/publis/pdf/sermanet-ijcnn-11.pdf). It's not required to be familiar with the approach used in the paper but, it's good practice to try to read papers like these."
   ]
  },
  {
   "cell_type": "markdown",
   "metadata": {},
   "source": [
    "### Pre-process the Data Set (normalization, grayscale, etc.)"
   ]
  },
  {
   "cell_type": "markdown",
   "metadata": {},
   "source": [
    "Minimally, the image data should be normalized so that the data has mean zero and equal variance. For image data, `(pixel - 128)/ 128` is a quick way to approximately normalize the data and can be used in this project. \n",
    "\n",
    "Other pre-processing steps are optional. You can try different techniques to see if it improves performance. \n",
    "\n",
    "Use the code cell (or multiple code cells, if necessary) to implement the first step of your project."
   ]
  },
  {
   "cell_type": "code",
   "execution_count": 5,
   "metadata": {
    "collapsed": false
   },
   "outputs": [],
   "source": [
    "### Preprocess the data here. It is required to normalize the data. Other preprocessing steps could include \n",
    "### converting to grayscale, etc.\n",
    "### Feel free to use as many code cells as needed.\n",
    "import cv2\n",
    "\n",
    "\n",
    "def to_greyscale(data, contrast_normalization=False):\n",
    "    \"\"\"\n",
    "    This function applies greyscale transformation and calls global contrast normalization on \n",
    "    each image if the parameter contrast_normalization is set to True\n",
    "    \"\"\"\n",
    "    data_transformed = []\n",
    "    for i in range(data.shape[0]):\n",
    "        image = cv2.cvtColor(data[i], cv2.COLOR_RGB2GRAY)\n",
    "        if contrast_normalization:\n",
    "            image = GCN(image)\n",
    "        data_transformed.append(image)\n",
    "    return np.array(data_transformed).reshape(data.shape[:-1] + (1,)).astype(np.float32)\n",
    "\n",
    "def GCN(image):\n",
    "    \"\"\"\n",
    "    It applies global contrast normalization on the input image.\n",
    "    \"\"\"\n",
    "    mean = np.mean(image)\n",
    "    std = np.std(image, ddof=1)\n",
    "    return (image-mean)/std\n",
    "\n",
    "#Here we transform the data sets according to greyscale and GCN techniques\n",
    "X_train = to_greyscale(X_train, contrast_normalization=True)\n",
    "X_valid = to_greyscale(X_valid, contrast_normalization=True)\n",
    "X_test = to_greyscale(X_test, contrast_normalization=True)"
   ]
  },
  {
   "cell_type": "code",
   "execution_count": 6,
   "metadata": {
    "collapsed": false
   },
   "outputs": [],
   "source": [
    "from sklearn.preprocessing import LabelBinarizer\n",
    "from sklearn.model_selection import train_test_split\n",
    "\n",
    "\n",
    "def apply_rotation(image, angle):\n",
    "    \"\"\"\n",
    "    Apply a rotation around the center to  the input image. Used for data augmentation\n",
    "    :param image: The image to rotate\n",
    "    :type image: Bidimensional numpy.ndarray\n",
    "    :param angle: The angle of rotation.\n",
    "    :type angle: floating point\n",
    "    :return: The rotated image in numpy.nd.array format\n",
    "    \"\"\"\n",
    "    rows, cols = image.shape[:-1]\n",
    "    M = cv2.getRotationMatrix2D((cols / 2, rows / 2), angle, 1)\n",
    "    return cv2.warpAffine(image, M, (cols, rows))\n",
    "\n",
    "def apply_translation(image, horizontal_shift, vertical_shift):\n",
    "    \"\"\"\n",
    "    Applies a translation to the image taking care that the important parts\n",
    "    are not cut out.\n",
    "    :param image: The image to translate\n",
    "    :type image: Bidimensional numpy.ndarray\n",
    "    :param horizontal_shift: The horizontal shift measured in number of pixels\n",
    "    :type horizontal_shift: Integer\n",
    "    :param vertical_shift: The vertical shift measured in number of pixels\n",
    "    :type vertical_shift: Integer\n",
    "    :return: The translated image in numpy.nd.array format\n",
    "    \"\"\"\n",
    "    rows, cols = image.shape\n",
    "\n",
    "    M = np.float32([[1, 0, horizontal_shift], [0, 1, vertical_shift]])\n",
    "    return cv2.warpAffine(image, M, (cols, rows))\n",
    "\n",
    "def data_augmentation(X, y, max_instances=10000, seed=0):\n",
    "    \"\"\"\n",
    "    This function is used to augment the datasets. It generates max_instances for each class by applying\n",
    "    rotations and translations to the images. The random generator seed can be set also.\n",
    "    \"\"\"\n",
    "    np.random.seed(seed)\n",
    "    X_augmented = []\n",
    "    y_augmented = []\n",
    "    for i in range(n_classes):\n",
    "        n_samples = len(y[y==i])\n",
    "        X_sub = X[y==i]\n",
    "        if n_samples > max_instances:\n",
    "            for i in range(max_instances):\n",
    "                X_augmented.append(X_sub[i])\n",
    "                y_augmented.append(i)\n",
    "        else:\n",
    "            k = 0\n",
    "            while k < max_instances:\n",
    "                image = X_sub[k % n_samples]\n",
    "                angle = np.random.uniform(0, 359)\n",
    "                image = apply_rotation(image, angle)\n",
    "                hor, ver = np.random.uniform(-5, 5), np.random.uniform(-5, 5)\n",
    "                image = apply_translation(image, hor, ver)\n",
    "                X_augmented.append(image)\n",
    "                y_augmented.append(i)\n",
    "                k += 1\n",
    "                \n",
    "    return np.array(X_augmented), np.array(y_augmented)\n",
    "    \n",
    "X_train, y_train = data_augmentation(X_train, y_train)\n",
    "X_train = X_train.reshape(X_train.shape + (1,) )\n",
    "\n",
    "label_binarizer = LabelBinarizer()\n",
    "label_binarizer.fit(range(max(y_train)+1))\n",
    "y_train = label_binarizer.transform(y_train)\n",
    "y_valid = label_binarizer.transform(y_valid)\n",
    "y_test = label_binarizer.transform(y_test)\n",
    "X_train, _, y_train, _ = train_test_split(X_train, y_train, test_size=0.001, random_state=42)"
   ]
  },
  {
   "cell_type": "markdown",
   "metadata": {},
   "source": [
    "### Model Architecture"
   ]
  },
  {
   "cell_type": "markdown",
   "metadata": {},
   "source": [
    "#### Parameters: Here we define all the parameters and hyperparameters of the Convolutional Neural Network"
   ]
  },
  {
   "cell_type": "code",
   "execution_count": 138,
   "metadata": {
    "collapsed": true
   },
   "outputs": [],
   "source": [
    "# Input dimension of the images\n",
    "img_rows, img_cols, nb_channels = (32, 32, 1)\n",
    "\n",
    "# Number of classes in the dataset\n",
    "nb_classes = 43\n",
    "\n",
    "# Network structure\n",
    "structure = [{\"type\": \"conv\", \"params\": {\"patch_x\": 5, \"patch_y\": 5, \"depth\": 16, \"channels\": 1, \"stride\" : 2}},\n",
    "             {\"type\": \"pool\", \"params\": {\"side\": 2, \"stride\": 2, \"pad\": \"SAME\"}},\n",
    "             {\"type\": \"conv\", \"params\": {\"patch_x\": 5, \"patch_y\": 5, \"depth\": 32, \"channels\": 16, \"stride\" : 1}},\n",
    "             {\"type\": \"pool\", \"params\": {\"side\": 2, \"stride\": 2, \"pad\": \"SAME\"}},\n",
    "             {\"type\": \"conv\", \"params\": {\"patch_x\": 5, \"patch_y\": 5, \"depth\": 64, \"channels\": 32, \"stride\" : 1}},\n",
    "             {\"type\": \"pool\", \"params\": {\"side\": 2, \"stride\": 2, \"pad\": \"SAME\"}},\n",
    "             {\"type\": \"dense\", \"params\": {\"n_input\": 256, \"n_output\": 256}},\n",
    "             {\"type\": \"dense\", \"params\": {\"n_input\": 256, \"n_output\": 128}}]\n",
    "\n",
    "dropout = 0.5\n",
    "\n",
    "# Initializer variable parameters\n",
    "std_variables = 0.1\n",
    "constant_bias = 0.1\n",
    "\n",
    "# Training\n",
    "optim = {\"type\" : \"Adagrad\"}\n",
    "nb_epochs = 10\n",
    "logging_info = 2000\n",
    "batch_size = 128"
   ]
  },
  {
   "cell_type": "markdown",
   "metadata": {},
   "source": [
    "#### Utility Functions"
   ]
  },
  {
   "cell_type": "code",
   "execution_count": 8,
   "metadata": {
    "collapsed": true
   },
   "outputs": [],
   "source": [
    "import tensorflow as tf\n",
    "\n",
    "def weight_variable(shape, std=0.1, name=None):\n",
    "    \"\"\"\n",
    "    Initializes variables according to a normal distribution with zero mean and standard\n",
    "    deviation stddev.\n",
    "    \n",
    "    :param shape: Provides the shape of the container of the variables\n",
    "    :param std: Defines the standard deviation of the normal distribution\n",
    "    \"\"\"\n",
    "    initial = tf.truncated_normal(shape, stddev=std, name=name)\n",
    "    return tf.Variable(initial)\n",
    "\n",
    "def bias_variable(shape, value=0.1, name=None):\n",
    "    \"\"\"\n",
    "    Initialiezes variables all equal to a constant.\n",
    "    \n",
    "    :param shape: Provides the shape of the container of the variables\n",
    "    :param value: Defines the value of the constant to which all the variables are initialized.\n",
    "    \"\"\"\n",
    "    initial = tf.constant(value, shape=shape, name=name)\n",
    "    return tf.Variable(initial)\n"
   ]
  },
  {
   "cell_type": "markdown",
   "metadata": {},
   "source": [
    "#### Placeholders"
   ]
  },
  {
   "cell_type": "code",
   "execution_count": 9,
   "metadata": {
    "collapsed": false
   },
   "outputs": [],
   "source": [
    "# These placeholders are used to feed tf variables when needed. The first hold a batch of input\n",
    "# images, the second holds a batch of one-hot encoded labels\n",
    "x_holder = tf.placeholder(tf.float32, shape=[None, img_rows, img_cols, nb_channels], name=\"x\")\n",
    "y_holder = tf.placeholder(tf.float32, shape=[None, nb_classes], name=\"labels\")"
   ]
  },
  {
   "cell_type": "markdown",
   "metadata": {},
   "source": [
    "#### Variables"
   ]
  },
  {
   "cell_type": "code",
   "execution_count": 10,
   "metadata": {
    "collapsed": true
   },
   "outputs": [],
   "source": [
    "def conv_layer(X, w, b, params ,local_response=False):\n",
    "    conv = tf.nn.conv2d(X, w, strides=[1, params[\"stride\"], params[\"stride\"], 1], padding='SAME') + b\n",
    "    if local_response:\n",
    "        return tf.nn.local_response_normalization(tf.nn.relu(conv))\n",
    "    else:\n",
    "        return tf.nn.relu(conv)\n",
    "\n",
    "def dense_layer(X, w, b, params, dropout=None):\n",
    "    shape = X.get_shape()\n",
    "    return tf.nn.relu(tf.matmul(X, w) + b)\n",
    "\n",
    "def pool_layer(X, params):\n",
    "    return tf.nn.max_pool(X, ksize=[1, params[\"side\"], params[\"side\"], 1],\n",
    "                          strides=[1, params[\"stride\"], params[\"stride\"], 1],\n",
    "                          padding='SAME')"
   ]
  },
  {
   "cell_type": "code",
   "execution_count": 139,
   "metadata": {
    "collapsed": false
   },
   "outputs": [],
   "source": [
    "with tf.name_scope(\"conv1\"):\n",
    "    params = structure[0][\"params\"]\n",
    "    W_conv_1 = weight_variable([params[\"patch_x\"], params[\"patch_y\"], params[\"channels\"], params[\"depth\"]], name=\"W\")\n",
    "    b_conv_1 = bias_variable([params[\"depth\"]], name=\"b\")\n",
    "    tf.summary.histogram(\"weights\", W_conv_1)\n",
    "    tf.summary.histogram(\"biases\", b_conv_1)\n",
    "\n",
    "with tf.name_scope(\"conv2\"):\n",
    "    params = structure[2][\"params\"]\n",
    "    W_conv_2 = weight_variable([params[\"patch_x\"], params[\"patch_y\"], params[\"channels\"], params[\"depth\"]], name=\"W\")\n",
    "    b_conv_2 = bias_variable([params[\"depth\"]], name=\"b\")\n",
    "    tf.summary.histogram(\"weights\", W_conv_2)\n",
    "    tf.summary.histogram(\"biases\", b_conv_2)\n",
    "    \n",
    "with tf.name_scope(\"conv3\"):\n",
    "    params = structure[4][\"params\"]\n",
    "    W_conv_3 = weight_variable([params[\"patch_x\"], params[\"patch_y\"], params[\"channels\"], params[\"depth\"]], name=\"W\")\n",
    "    b_conv_3 = bias_variable([params[\"depth\"]], name=\"b\")\n",
    "    tf.summary.histogram(\"weights\", W_conv_3)\n",
    "    tf.summary.histogram(\"biases\", b_conv_3)\n",
    "\n",
    "with tf.name_scope(\"dense1\"):\n",
    "    params = structure[6][\"params\"]\n",
    "    W_dense_1 = weight_variable([params[\"n_input\"], params[\"n_output\"]], name=\"W\")\n",
    "    b_dense_1 = bias_variable([params[\"n_output\"]], name=\"b\")\n",
    "    tf.summary.histogram(\"weights\", W_dense_1)\n",
    "    tf.summary.histogram(\"biases\", b_dense_1)\n",
    "\n",
    "with tf.name_scope(\"dense2\"):\n",
    "    params = structure[7][\"params\"]\n",
    "    W_dense_2 = weight_variable([params[\"n_input\"], params[\"n_output\"]], name=\"W\")\n",
    "    b_dense_2 = bias_variable([params[\"n_output\"]], name=\"b\")\n",
    "    tf.summary.histogram(\"weights\", W_dense_2)\n",
    "    tf.summary.histogram(\"biases\", b_dense_2)\n",
    "\n",
    "with tf.name_scope(\"final_layer\"):\n",
    "    W_final = weight_variable([structure[7][\"params\"][\"n_output\"], nb_classes], name=\"W\")\n",
    "    b_final = bias_variable([nb_classes], name=\"b\")"
   ]
  },
  {
   "cell_type": "markdown",
   "metadata": {},
   "source": [
    "#### Model"
   ]
  },
  {
   "cell_type": "code",
   "execution_count": 140,
   "metadata": {
    "collapsed": false
   },
   "outputs": [],
   "source": [
    "def _model(X_image, dropout=1.0):\n",
    "    data = X_image\n",
    "    conv1 = conv_layer(data, W_conv_1, b_conv_1, structure[0][\"params\"])\n",
    "    pool1 = pool_layer(conv1, structure[1][\"params\"])\n",
    "    conv2 = conv_layer(pool1, W_conv_2, b_conv_2, structure[2][\"params\"])\n",
    "    pool2 = pool_layer(conv2, structure[3][\"params\"])\n",
    "    conv3 = conv_layer(pool2, W_conv_3, b_conv_3, structure[4][\"params\"])\n",
    "    pool3 = pool_layer(conv3, structure[5][\"params\"])\n",
    "    \n",
    "    shape = pool3.get_shape()\n",
    "    reshaped = tf.reshape(pool3, [-1, int(shape[1]*shape[2]*shape[3])])\n",
    "    dense1 = dense_layer(reshaped, W_dense_1, b_dense_1, structure[6][\"params\"])\n",
    "    dropped = tf.nn.dropout(dense1, dropout)\n",
    "    dense2 = dense_layer(dropped, W_dense_2, b_dense_2, structure[7][\"params\"])\n",
    "    dropped2 = tf.nn.dropout(dense2, dropout)\n",
    "    return tf.matmul(dropped2, W_final) + b_final\n",
    "    \n",
    "    "
   ]
  },
  {
   "cell_type": "code",
   "execution_count": 141,
   "metadata": {
    "collapsed": true
   },
   "outputs": [],
   "source": [
    "def _conv_layer_1_output(X_image):\n",
    "    data = X_image\n",
    "    conv1 = conv_layer(data, W_conv_1, b_conv_1, structure[0][\"params\"])\n",
    "    pool1 = pool_layer(conv1, structure[1][\"params\"])\n",
    "    return pool1\n",
    "\n",
    "def _conv_layer_2_output(X_image):\n",
    "    data = X_image\n",
    "    conv1 = conv_layer(data, W_conv_1, b_conv_1, structure[0][\"params\"])\n",
    "    pool1 = pool_layer(conv1, structure[1][\"params\"])\n",
    "    conv2 = conv_layer(pool1, W_conv_2, b_conv_2, structure[2][\"params\"])\n",
    "    pool2 = pool_layer(conv2, structure[3][\"params\"])\n",
    "    return pool2\n",
    "\n",
    "def _conv_layer_3_output(X_image):\n",
    "    data = X_image\n",
    "    conv1 = conv_layer(data, W_conv_1, b_conv_1, structure[0][\"params\"])\n",
    "    pool1 = pool_layer(conv1, structure[1][\"params\"])\n",
    "    conv2 = conv_layer(pool1, W_conv_2, b_conv_2, structure[2][\"params\"])\n",
    "    pool2 = pool_layer(conv2, structure[3][\"params\"])\n",
    "    conv3 = conv_layer(pool2, W_conv_3, b_conv_3, structure[4][\"params\"])\n",
    "    pool3 = pool_layer(conv3, structure[5][\"params\"])\n",
    "    return pool3  "
   ]
  },
  {
   "cell_type": "markdown",
   "metadata": {},
   "source": [
    "### Train, Validate and Test the Model"
   ]
  },
  {
   "cell_type": "markdown",
   "metadata": {},
   "source": [
    "A validation set can be used to assess how well the model is performing. A low accuracy on the training and validation\n",
    "sets imply underfitting. A high accuracy on the training set but low accuracy on the validation set implies overfitting."
   ]
  },
  {
   "cell_type": "code",
   "execution_count": 13,
   "metadata": {
    "collapsed": true
   },
   "outputs": [],
   "source": [
    "### Train your model here.\n",
    "### Calculate and report the accuracy on the training and validation set.\n",
    "### Once a final model architecture is selected, \n",
    "### the accuracy on the test set should be calculated and reported as well.\n",
    "### Feel free to use as many code cells as needed."
   ]
  },
  {
   "cell_type": "markdown",
   "metadata": {},
   "source": [
    "### Training"
   ]
  },
  {
   "cell_type": "markdown",
   "metadata": {},
   "source": [
    "#### Helper functions"
   ]
  },
  {
   "cell_type": "code",
   "execution_count": 142,
   "metadata": {
    "collapsed": true
   },
   "outputs": [],
   "source": [
    "def _optimizer_type(optimizer, loss):\n",
    "    if optimizer[\"type\"] == \"Adagrad\":\n",
    "        learning_rate = tf.train.exponential_decay(0.05, tf.Variable(0), 10000, 0.95)\n",
    "        return tf.train.AdagradOptimizer(learning_rate).minimize(loss, global_step=tf.Variable(0))\n",
    "    elif optimizer[\"type\"] == \"Adadelta\":\n",
    "        return tf.train.AdadeltaOptimizer(optimizer[\"learning_rate\"]).minimize(loss)\n",
    "    elif optimizer[\"type\"] == \"Adam\":\n",
    "        return tf.train.AdamOptimizer(optimizer[\"learning_rate\"].minimize(loss))\n",
    "\n",
    "def next_batch(X, y, length, batch_init):\n",
    "    if (batch_init + 1) * length <= len(y):\n",
    "        init = batch_init * length\n",
    "        fin = (batch_init + 1) * length\n",
    "        batch_init += 1\n",
    "        return X[init: fin], y[init: fin], batch_init\n",
    "    else:\n",
    "        init = batch_init * length\n",
    "        batch_init = 0\n",
    "        return X[init:], y[init:], batch_init\n",
    "\n",
    "def prepare_dict(batch):\n",
    "    return {x_holder: batch[0].reshape(-1, img_rows, img_cols, nb_channels),\n",
    "            y_holder : batch[1]}\n",
    "\n",
    "def _accuracy(predictions, actual):\n",
    "    return 100.0 * np.sum(np.argmax(predictions, 1) == np.argmax(actual, 1))/predictions.shape[0]"
   ]
  },
  {
   "cell_type": "markdown",
   "metadata": {},
   "source": [
    "#### Training related definitions"
   ]
  },
  {
   "cell_type": "code",
   "execution_count": 143,
   "metadata": {
    "collapsed": false
   },
   "outputs": [],
   "source": [
    "with tf.name_scope('cross_entropy'):\n",
    "    logits = _model(x_holder, dropout)\n",
    "    loss = tf.reduce_mean(tf.nn.softmax_cross_entropy_with_logits(logits=logits, labels=y_holder))\n",
    "    tf.summary.scalar('cross_entropy', loss)\n",
    "\n",
    "with tf.name_scope(\"train\"):\n",
    "    optimizer = _optimizer_type(optim, loss)\n",
    "    \n",
    "prediction = tf.nn.softmax(_model(x_holder, 1.0))\n"
   ]
  },
  {
   "cell_type": "markdown",
   "metadata": {},
   "source": [
    "#### Training session"
   ]
  },
  {
   "cell_type": "code",
   "execution_count": 144,
   "metadata": {
    "collapsed": false
   },
   "outputs": [
    {
     "name": "stdout",
     "output_type": "stream",
     "text": [
      "WARNING:tensorflow:From <ipython-input-144-4918358a0172>:6: initialize_all_variables (from tensorflow.python.ops.variables) is deprecated and will be removed after 2017-03-02.\n",
      "Instructions for updating:\n",
      "Use `tf.global_variables_initializer` instead.\n",
      "Minibatch loss value at step 1: 4.02\n",
      "Minibatch accuracy: 2.3%\n",
      "Validation set accuracy: 1.4%\n",
      "Minibatch loss value at step 2001: 2.11\n",
      "Minibatch accuracy: 41.4%\n",
      "Validation set accuracy: 21.1%\n",
      "Minibatch loss value at step 4001: 1.39\n",
      "Minibatch accuracy: 60.9%\n",
      "Validation set accuracy: 37.3%\n",
      "Minibatch loss value at step 6001: 1.23\n",
      "Minibatch accuracy: 69.5%\n",
      "Validation set accuracy: 45.2%\n",
      "Minibatch loss value at step 8001: 1.13\n",
      "Minibatch accuracy: 68.0%\n",
      "Validation set accuracy: 46.4%\n",
      "Minibatch loss value at step 10001: 0.98\n",
      "Minibatch accuracy: 71.9%\n",
      "Validation set accuracy: 47.5%\n",
      "Minibatch loss value at step 12001: 0.85\n",
      "Minibatch accuracy: 75.0%\n",
      "Validation set accuracy: 48.0%\n",
      "Minibatch loss value at step 14001: 0.81\n",
      "Minibatch accuracy: 75.0%\n",
      "Validation set accuracy: 51.0%\n",
      "Minibatch loss value at step 16001: 0.96\n",
      "Minibatch accuracy: 72.7%\n",
      "Validation set accuracy: 51.9%\n",
      "Minibatch loss value at step 18001: 0.79\n",
      "Minibatch accuracy: 78.1%\n",
      "Validation set accuracy: 51.7%\n",
      "Minibatch loss value at step 20001: 0.63\n",
      "Minibatch accuracy: 82.0%\n",
      "Validation set accuracy: 52.6%\n",
      "Minibatch loss value at step 22001: 0.53\n",
      "Minibatch accuracy: 90.6%\n",
      "Validation set accuracy: 53.8%\n",
      "Minibatch loss value at step 24001: 0.63\n",
      "Minibatch accuracy: 81.2%\n",
      "Validation set accuracy: 53.7%\n",
      "Minibatch loss value at step 26001: 0.58\n",
      "Minibatch accuracy: 84.4%\n",
      "Validation set accuracy: 54.1%\n",
      "Minibatch loss value at step 28001: 0.72\n",
      "Minibatch accuracy: 79.7%\n",
      "Validation set accuracy: 54.6%\n",
      "Minibatch loss value at step 30001: 0.59\n",
      "Minibatch accuracy: 83.6%\n",
      "Validation set accuracy: 56.4%\n",
      "Minibatch loss value at step 32001: 0.55\n",
      "Minibatch accuracy: 89.8%\n",
      "Validation set accuracy: 56.6%\n"
     ]
    }
   ],
   "source": [
    "import os\n",
    "\n",
    "with tf.Session() as sess:\n",
    "    train_writer = tf.summary.FileWriter(\"./logs/train/1\", sess.graph)\n",
    "    merged = tf.summary.merge_all()\n",
    "    tf.initialize_all_variables().run()\n",
    "\n",
    "    batch_epochs = int(X_train.shape[0]/batch_size)*nb_epochs\n",
    "    batch_init = 0\n",
    "\n",
    "    for step in range(batch_epochs):\n",
    "        batch = next_batch(X_train, y_train, batch_size, batch_init)\n",
    "        batch_init = batch[2]\n",
    "        _ = sess.run(optimizer, feed_dict=prepare_dict(batch))\n",
    "        if step % logging_info == 0:\n",
    "            l, results, summary = sess.run([loss, prediction, merged], feed_dict=prepare_dict(batch))\n",
    "            train_writer.add_summary(summary, step)\n",
    "            \n",
    "            print(\"Minibatch loss value at step {}: {:.2f}\".format(step+1, l))\n",
    "            minibatch_accuracy = _accuracy(results, batch[1])\n",
    "            print(\"Minibatch accuracy: {:.1f}%\".format(minibatch_accuracy))\n",
    "            valid_results = sess.run(prediction, feed_dict={x_holder : X_valid})\n",
    "            valid_accuracy = _accuracy(valid_results, y_valid)\n",
    "            print(\"Validation set accuracy: {:.1f}%\".format(valid_accuracy))\n",
    "    saver = tf.train.Saver()\n",
    "    save_path = os.path.join(\"models/\", 'model.ckpt')\n",
    "    saver.save(sess, save_path);\n",
    "\n",
    "        \n",
    "        "
   ]
  },
  {
   "cell_type": "markdown",
   "metadata": {},
   "source": [
    "---\n",
    "\n",
    "## Step 3: Test a Model on New Images\n",
    "\n",
    "To give yourself more insight into how your model is working, download at least five pictures of German traffic signs from the web and use your model to predict the traffic sign type.\n",
    "\n",
    "You may find `signnames.csv` useful as it contains mappings from the class id (integer) to the actual sign name."
   ]
  },
  {
   "cell_type": "markdown",
   "metadata": {},
   "source": [
    "### Load saved model"
   ]
  },
  {
   "cell_type": "code",
   "execution_count": 145,
   "metadata": {
    "collapsed": false
   },
   "outputs": [
    {
     "name": "stdout",
     "output_type": "stream",
     "text": [
      "Validation set accuracy: 56.6% and Test set accuracy : 52.3%\n"
     ]
    }
   ],
   "source": [
    "with tf.Session() as sess:\n",
    "    saver = tf.train.Saver()\n",
    "    saver.restore(sess, os.path.join(\"models/\", 'model.ckpt'))\n",
    "    test_res = sess.run(prediction, feed_dict={x_holder : X_test})\n",
    "    valid_res = sess.run(prediction, feed_dict={x_holder : X_valid})\n",
    "    valid_accuracy = _accuracy(valid_res, y_valid)\n",
    "    test_accuracy = _accuracy(test_res, y_test)\n",
    "    print(\"Validation set accuracy: {:.1f}% and Test set accuracy : {:.1f}%\".format(valid_accuracy, test_accuracy))"
   ]
  },
  {
   "cell_type": "markdown",
   "metadata": {},
   "source": [
    "### Load and Output the Images"
   ]
  },
  {
   "cell_type": "code",
   "execution_count": 152,
   "metadata": {
    "collapsed": false
   },
   "outputs": [
    {
     "data": {
      "image/png": "[encoded data removed]",
      "text/plain": [
       "<matplotlib.figure.Figure at 0x7f0796444d30>"
      ]
     },
     "metadata": {},
     "output_type": "display_data"
    },
    {
     "data": {
      "image/png": "[encoded data removed]",
      "text/plain": [
       "<matplotlib.figure.Figure at 0x7f08154adba8>"
      ]
     },
     "metadata": {},
     "output_type": "display_data"
    },
    {
     "data": {
      "image/png": "[encoded data removed]",
      "text/plain": [
       "<matplotlib.figure.Figure at 0x7f0795d105c0>"
      ]
     },
     "metadata": {},
     "output_type": "display_data"
    },
    {
     "data": {
      "image/png": "[encoded data removed]",
      "text/plain": [
       "<matplotlib.figure.Figure at 0x7f081019b5f8>"
      ]
     },
     "metadata": {},
     "output_type": "display_data"
    },
    {
     "data": {
      "image/png": "[encoded data removed]",
      "text/plain": [
       "<matplotlib.figure.Figure at 0x7f06eed0d1d0>"
      ]
     },
     "metadata": {},
     "output_type": "display_data"
    }
   ],
   "source": [
    "### Load the images and plot them here.\n",
    "### Feel free to use as many code cells as needed.\n",
    "\n",
    "import matplotlib.image as mpimg\n",
    "\n",
    "img1 = mpimg.imread('./data/sign1.jpg')\n",
    "img1 = img1[40:310,50:400]\n",
    "img1 = cv2.resize(img1,(32,32), interpolation = cv2.INTER_CUBIC)\n",
    "img1 = cv2.cvtColor(img1, cv2.COLOR_RGB2GRAY)\n",
    "img1 = GCN(img1)\n",
    "plt.imshow(img1);\n",
    "plt.show()\n",
    "\n",
    "img2 = mpimg.imread('./data/sign2.jpg')\n",
    "img2 = img2[25:150,60:190]\n",
    "img2 = cv2.resize(img2,(32,32), interpolation = cv2.INTER_CUBIC)\n",
    "img2 = cv2.cvtColor(img2, cv2.COLOR_RGB2GRAY)\n",
    "img2 = GCN(img2)\n",
    "plt.imshow(img2);\n",
    "plt.show()\n",
    "\n",
    "img3 = mpimg.imread('./data/sign3.jpg')\n",
    "img3 = img3[:180,30:230]\n",
    "img3 = cv2.resize(img3,(32,32), interpolation = cv2.INTER_CUBIC)\n",
    "img3 = cv2.cvtColor(img3, cv2.COLOR_RGB2GRAY)\n",
    "img3 = GCN(img3)\n",
    "plt.imshow(img3);\n",
    "plt.show()\n",
    "\n",
    "img4 = mpimg.imread('./data/sign4.jpg')\n",
    "img4 = img4[:185,:]\n",
    "img4 = cv2.resize(img4,(32,32), interpolation = cv2.INTER_CUBIC)\n",
    "img4 = cv2.cvtColor(img4, cv2.COLOR_RGB2GRAY)\n",
    "img4 = GCN(img4)\n",
    "plt.imshow(img4);\n",
    "plt.show()\n",
    "\n",
    "img5 = mpimg.imread('./data/sign5.jpg')\n",
    "img5 = img5[:190,:]\n",
    "img5 = cv2.resize(img5,(32,32), interpolation = cv2.INTER_CUBIC)\n",
    "img5 = cv2.cvtColor(img5, cv2.COLOR_RGB2GRAY)\n",
    "img5 = GCN(img5)\n",
    "plt.imshow(img5);\n",
    "plt.show()\n",
    "\n",
    "images = np.array([img1, img2, img3, img4, img5]).reshape((-1, 32, 32, 1))"
   ]
  },
  {
   "cell_type": "markdown",
   "metadata": {},
   "source": [
    "### Predict the Sign Type for Each Image"
   ]
  },
  {
   "cell_type": "code",
   "execution_count": null,
   "metadata": {
    "collapsed": true
   },
   "outputs": [],
   "source": [
    "### Run the predictions here and use the model to output the prediction for each image.\n",
    "### Make sure to pre-process the images with the same pre-processing pipeline used earlier.\n",
    "### Feel free to use as many code cells as needed."
   ]
  },
  {
   "cell_type": "code",
   "execution_count": 154,
   "metadata": {
    "collapsed": false
   },
   "outputs": [],
   "source": [
    "with tf.Session() as sess:\n",
    "    saver = tf.train.Saver()\n",
    "    saver.restore(sess, os.path.join(\"models/\", 'model.ckpt'))\n",
    "    image_res = sess.run(prediction, feed_dict={x_holder : images})"
   ]
  },
  {
   "cell_type": "code",
   "execution_count": 155,
   "metadata": {
    "collapsed": false
   },
   "outputs": [
    {
     "data": {
      "text/plain": [
       "(1, 1, 12, 0, 39)"
      ]
     },
     "execution_count": 155,
     "metadata": {},
     "output_type": "execute_result"
    }
   ],
   "source": [
    "np.argmax(image_res[0]),np.argmax(image_res[1]),np.argmax(image_res[2]),np.argmax(image_res[3]),np.argmax(image_res[4])"
   ]
  },
  {
   "cell_type": "code",
   "execution_count": 105,
   "metadata": {
    "collapsed": false
   },
   "outputs": [
    {
     "data": {
      "text/plain": [
       "array([5, 3, 1, 2, 0])"
      ]
     },
     "execution_count": 105,
     "metadata": {},
     "output_type": "execute_result"
    }
   ],
   "source": [
    "ind = np.argpartition(test_res[0], -5)[-5:]\n"
   ]
  },
  {
   "cell_type": "markdown",
   "metadata": {},
   "source": [
    "#### First Image"
   ]
  },
  {
   "cell_type": "code",
   "execution_count": null,
   "metadata": {
    "collapsed": true
   },
   "outputs": [],
   "source": []
  },
  {
   "cell_type": "markdown",
   "metadata": {},
   "source": [
    "#### Second Image"
   ]
  },
  {
   "cell_type": "code",
   "execution_count": null,
   "metadata": {
    "collapsed": true
   },
   "outputs": [],
   "source": []
  },
  {
   "cell_type": "markdown",
   "metadata": {},
   "source": [
    "#### Third Image"
   ]
  },
  {
   "cell_type": "code",
   "execution_count": null,
   "metadata": {
    "collapsed": true
   },
   "outputs": [],
   "source": []
  },
  {
   "cell_type": "code",
   "execution_count": null,
   "metadata": {
    "collapsed": true
   },
   "outputs": [],
   "source": []
  },
  {
   "cell_type": "markdown",
   "metadata": {},
   "source": [
    "### Analyze Performance"
   ]
  },
  {
   "cell_type": "code",
   "execution_count": null,
   "metadata": {
    "collapsed": true
   },
   "outputs": [],
   "source": [
    "### Calculate the accuracy for these 5 new images. \n",
    "### For example, if the model predicted 1 out of 5 signs correctly, it's 20% accurate on these new images."
   ]
  },
  {
   "cell_type": "markdown",
   "metadata": {},
   "source": [
    "### Output Top 5 Softmax Probabilities For Each Image Found on the Web"
   ]
  },
  {
   "cell_type": "markdown",
   "metadata": {},
   "source": [
    "For each of the new images, print out the model's softmax probabilities to show the **certainty** of the model's predictions (limit the output to the top 5 probabilities for each image). [`tf.nn.top_k`](https://www.tensorflow.org/versions/r0.12/api_docs/python/nn.html#top_k) could prove helpful here. \n",
    "\n",
    "The example below demonstrates how tf.nn.top_k can be used to find the top k predictions for each image.\n",
    "\n",
    "`tf.nn.top_k` will return the values and indices (class ids) of the top k predictions. So if k=3, for each sign, it'll return the 3 largest probabilities (out of a possible 43) and the correspoding class ids.\n",
    "\n",
    "Take this numpy array as an example. The values in the array represent predictions. The array contains softmax probabilities for five candidate images with six possible classes. `tk.nn.top_k` is used to choose the three classes with the highest probability:\n",
    "\n",
    "```\n",
    "# (5, 6) array\n",
    "a = np.array([[ 0.24879643,  0.07032244,  0.12641572,  0.34763842,  0.07893497,\n",
    "         0.12789202],\n",
    "       [ 0.28086119,  0.27569815,  0.08594638,  0.0178669 ,  0.18063401,\n",
    "         0.15899337],\n",
    "       [ 0.26076848,  0.23664738,  0.08020603,  0.07001922,  0.1134371 ,\n",
    "         0.23892179],\n",
    "       [ 0.11943333,  0.29198961,  0.02605103,  0.26234032,  0.1351348 ,\n",
    "         0.16505091],\n",
    "       [ 0.09561176,  0.34396535,  0.0643941 ,  0.16240774,  0.24206137,\n",
    "         0.09155967]])\n",
    "```\n",
    "\n",
    "Running it through `sess.run(tf.nn.top_k(tf.constant(a), k=3))` produces:\n",
    "\n",
    "```\n",
    "TopKV2(values=array([[ 0.34763842,  0.24879643,  0.12789202],\n",
    "       [ 0.28086119,  0.27569815,  0.18063401],\n",
    "       [ 0.26076848,  0.23892179,  0.23664738],\n",
    "       [ 0.29198961,  0.26234032,  0.16505091],\n",
    "       [ 0.34396535,  0.24206137,  0.16240774]]), indices=array([[3, 0, 5],\n",
    "       [0, 1, 4],\n",
    "       [0, 5, 1],\n",
    "       [1, 3, 5],\n",
    "       [1, 4, 3]], dtype=int32))\n",
    "```\n",
    "\n",
    "Looking just at the first row we get `[ 0.34763842,  0.24879643,  0.12789202]`, you can confirm these are the 3 largest probabilities in `a`. You'll also notice `[3, 0, 5]` are the corresponding indices."
   ]
  },
  {
   "cell_type": "code",
   "execution_count": null,
   "metadata": {
    "collapsed": true
   },
   "outputs": [],
   "source": [
    "### Print out the top five softmax probabilities for the predictions on the German traffic sign images found on the web. \n",
    "### Feel free to use as many code cells as needed."
   ]
  },
  {
   "cell_type": "code",
   "execution_count": 149,
   "metadata": {
    "collapsed": true
   },
   "outputs": [],
   "source": [
    "# Utility function for bar plots\n",
    "def bar_plot_softmax(n, cutoff=5):\n",
    "    ind = np.sort(np.argpartition(image_res[n], -cutoff)[-cutoff:])\n",
    "    sns.set_style(\"whitegrid\")\n",
    "    plt.figure(figsize=(7,4))\n",
    "    ax = sns.barplot(y=image_res[n][ind], x=ind)\n",
    "    plt.show()"
   ]
  },
  {
   "cell_type": "markdown",
   "metadata": {},
   "source": [
    "#### First image"
   ]
  },
  {
   "cell_type": "code",
   "execution_count": 150,
   "metadata": {
    "collapsed": false
   },
   "outputs": [
    {
     "data": {
      "image/png": "[encoded data removed]",
      "text/plain": [
       "<matplotlib.figure.Figure at 0x7f0815954cc0>"
      ]
     },
     "metadata": {},
     "output_type": "display_data"
    }
   ],
   "source": [
    "bar_plot_softmax(0)"
   ]
  },
  {
   "cell_type": "markdown",
   "metadata": {},
   "source": [
    "#### Second Image"
   ]
  },
  {
   "cell_type": "code",
   "execution_count": 151,
   "metadata": {
    "collapsed": false
   },
   "outputs": [
    {
     "data": {
      "image/png": "[encoded data removed]",
      "text/plain": [
       "<matplotlib.figure.Figure at 0x7f0795fcff98>"
      ]
     },
     "metadata": {},
     "output_type": "display_data"
    }
   ],
   "source": [
    "bar_plot_softmax(1)"
   ]
  },
  {
   "cell_type": "markdown",
   "metadata": {},
   "source": [
    "#### Third image"
   ]
  },
  {
   "cell_type": "code",
   "execution_count": 135,
   "metadata": {
    "collapsed": false
   },
   "outputs": [
    {
     "data": {
      "image/png": "[encoded data removed]",
      "text/plain": [
       "<matplotlib.figure.Figure at 0x7f0796444c88>"
      ]
     },
     "metadata": {},
     "output_type": "display_data"
    }
   ],
   "source": [
    "bar_plot_softmax(2)"
   ]
  },
  {
   "cell_type": "markdown",
   "metadata": {},
   "source": [
    "#### Fourth Image"
   ]
  },
  {
   "cell_type": "code",
   "execution_count": 136,
   "metadata": {
    "collapsed": false
   },
   "outputs": [
    {
     "data": {
      "image/png": "[encoded data removed]",
      "text/plain": [
       "<matplotlib.figure.Figure at 0x7f082e5a9a20>"
      ]
     },
     "metadata": {},
     "output_type": "display_data"
    }
   ],
   "source": [
    "bar_plot_softmax(3)"
   ]
  },
  {
   "cell_type": "markdown",
   "metadata": {},
   "source": [
    "#### Fifth image"
   ]
  },
  {
   "cell_type": "code",
   "execution_count": 137,
   "metadata": {
    "collapsed": false
   },
   "outputs": [
    {
     "data": {
      "image/png": "[encoded data removed]",
      "text/plain": [
       "<matplotlib.figure.Figure at 0x7f07c41e6a20>"
      ]
     },
     "metadata": {},
     "output_type": "display_data"
    }
   ],
   "source": [
    "bar_plot_softmax(4)"
   ]
  },
  {
   "cell_type": "markdown",
   "metadata": {},
   "source": [
    "### Project Writeup\n",
    "\n",
    "Once you have completed the code implementation, document your results in a project writeup using this [template](https://github.com/udacity/CarND-Traffic-Sign-Classifier-Project/blob/master/writeup_template.md) as a guide. The writeup can be in a markdown or pdf file. "
   ]
  },
  {
   "cell_type": "markdown",
   "metadata": {},
   "source": [
    "> **Note**: Once you have completed all of the code implementations and successfully answered each question above, you may finalize your work by exporting the iPython Notebook as an HTML document. You can do this by using the menu above and navigating to  \\n\",\n",
    "    \"**File -> Download as -> HTML (.html)**. Include the finished document along with this notebook as your submission."
   ]
  },
  {
   "cell_type": "markdown",
   "metadata": {},
   "source": [
    "---\n",
    "\n",
    "## Step 4 (Optional): Visualize the Neural Network's State with Test Images\n",
    "\n",
    " This Section is not required to complete but acts as an additional excersise for understaning the output of a neural network's weights. While neural networks can be a great learning device they are often referred to as a black box. We can understand what the weights of a neural network look like better by plotting their feature maps. After successfully training your neural network you can see what it's feature maps look like by plotting the output of the network's weight layers in response to a test stimuli image. From these plotted feature maps, it's possible to see what characteristics of an image the network finds interesting. For a sign, maybe the inner network feature maps react with high activation to the sign's boundary outline or to the contrast in the sign's painted symbol.\n",
    "\n",
    " Provided for you below is the function code that allows you to get the visualization output of any tensorflow weight layer you want. The inputs to the function should be a stimuli image, one used during training or a new one you provided, and then the tensorflow variable name that represents the layer's state during the training process, for instance if you wanted to see what the [LeNet lab's](https://classroom.udacity.com/nanodegrees/nd013/parts/fbf77062-5703-404e-b60c-95b78b2f3f9e/modules/6df7ae49-c61c-4bb2-a23e-6527e69209ec/lessons/601ae704-1035-4287-8b11-e2c2716217ad/concepts/d4aca031-508f-4e0b-b493-e7b706120f81) feature maps looked like for it's second convolutional layer you could enter conv2 as the tf_activation variable.\n",
    "\n",
    "For an example of what feature map outputs look like, check out NVIDIA's results in their paper [End-to-End Deep Learning for Self-Driving Cars](https://devblogs.nvidia.com/parallelforall/deep-learning-self-driving-cars/) in the section Visualization of internal CNN State. NVIDIA was able to show that their network's inner weights had high activations to road boundary lines by comparing feature maps from an image with a clear path to one without. Try experimenting with a similar test to show that your trained network's weights are looking for interesting features, whether it's looking at differences in feature maps from images with or without a sign, or even what feature maps look like in a trained network vs a completely untrained one on the same sign image.\n",
    "\n",
    "<figure>\n",
    " <img src=\"visualize_cnn.png\" width=\"380\" alt=\"Combined Image\" />\n",
    " <figcaption>\n",
    " <p></p> \n",
    " <p style=\"text-align: center;\"> Your output should look something like this (above)</p> \n",
    " </figcaption>\n",
    "</figure>\n",
    " <p></p> \n"
   ]
  },
  {
   "cell_type": "code",
   "execution_count": null,
   "metadata": {
    "collapsed": true
   },
   "outputs": [],
   "source": [
    "### Visualize your network's feature maps here.\n",
    "### Feel free to use as many code cells as needed.\n",
    "\n",
    "# image_input: the test image being fed into the network to produce the feature maps\n",
    "# tf_activation: should be a tf variable name used during your training procedure that represents the calculated state of a specific weight layer\n",
    "# activation_min/max: can be used to view the activation contrast in more detail, by default matplot sets min and max to the actual min and max values of the output\n",
    "# plt_num: used to plot out multiple different weight feature map sets on the same block, just extend the plt number for each new feature map entry\n",
    "\n",
    "def outputFeatureMap(image_input, tf_activation, activation_min=-1, activation_max=-1 ,plt_num=1):\n",
    "    # Here make sure to preprocess your image_input in a way your network expects\n",
    "    # with size, normalization, ect if needed\n",
    "    # image_input =\n",
    "    # Note: x should be the same name as your network's tensorflow data placeholder variable\n",
    "    # If you get an error tf_activation is not defined it may be having trouble accessing the variable from inside a function\n",
    "    activation = tf_activation.eval(session=sess,feed_dict={x : image_input})\n",
    "    featuremaps = activation.shape[3]\n",
    "    plt.figure(plt_num, figsize=(15,15))\n",
    "    for featuremap in range(featuremaps):\n",
    "        plt.subplot(6,8, featuremap+1) # sets the number of feature maps to show on each row and column\n",
    "        plt.title('FeatureMap ' + str(featuremap)) # displays the feature map number\n",
    "        if activation_min != -1 & activation_max != -1:\n",
    "            plt.imshow(activation[0,:,:, featuremap], interpolation=\"nearest\", vmin =activation_min, vmax=activation_max, cmap=\"gray\")\n",
    "        elif activation_max != -1:\n",
    "            plt.imshow(activation[0,:,:, featuremap], interpolation=\"nearest\", vmax=activation_max, cmap=\"gray\")\n",
    "        elif activation_min !=-1:\n",
    "            plt.imshow(activation[0,:,:, featuremap], interpolation=\"nearest\", vmin=activation_min, cmap=\"gray\")\n",
    "        else:\n",
    "            plt.imshow(activation[0,:,:, featuremap], interpolation=\"nearest\", cmap=\"gray\")"
   ]
  }
 ],
 "metadata": {
  "anaconda-cloud": {},
  "kernelspec": {
   "display_name": "Python 3",
   "language": "python",
   "name": "python3"
  },
  "language_info": {
   "codemirror_mode": {
    "name": "ipython",
    "version": 3
   },
   "file_extension": ".py",
   "mimetype": "text/x-python",
   "name": "python",
   "nbconvert_exporter": "python",
   "pygments_lexer": "ipython3",
   "version": "3.6.0"
  }
 },
 "nbformat": 4,
 "nbformat_minor": 1
}
